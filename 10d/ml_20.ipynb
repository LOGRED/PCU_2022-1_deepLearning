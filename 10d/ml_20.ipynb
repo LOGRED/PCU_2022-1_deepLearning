{
 "cells": [
  {
   "cell_type": "code",
   "execution_count": 6,
   "metadata": {},
   "outputs": [],
   "source": [
    "import numpy as np\n",
    "import pandas as pd\n",
    "import matplotlib.pyplot as plt\n",
    "\n",
    "import tensorflow as tf\n",
    "from tensorflow import keras"
   ]
  },
  {
   "cell_type": "code",
   "execution_count": 3,
   "metadata": {},
   "outputs": [
    {
     "data": {
      "text/plain": [
       "((60000, 28, 28), (60000,), (10000, 28, 28), (10000,))"
      ]
     },
     "execution_count": 3,
     "metadata": {},
     "output_type": "execute_result"
    }
   ],
   "source": [
    "(X_train, y_train), (X_test, y_test) = keras.datasets.mnist.load_data()\n",
    "X_train.shape, y_train.shape, X_test.shape, y_test.shape"
   ]
  },
  {
   "cell_type": "code",
   "execution_count": 4,
   "metadata": {},
   "outputs": [
    {
     "data": {
      "text/plain": [
       "((60000, 28, 28, 1), (10000, 28, 28, 1))"
      ]
     },
     "execution_count": 4,
     "metadata": {},
     "output_type": "execute_result"
    }
   ],
   "source": [
    "X_train = X_train.reshape(-1, 28, 28, 1)/255 # 0~1 사이의 값으로 정규화\n",
    "X_test = X_test.reshape(-1, 28, 28, 1)/255\n",
    "X_train.shape, X_test.shape\n",
    "\n",
    "# 끝에 1이 붙은 이유는 흑백사진이라도 채널을 지정해준다.. 그래서 1을 입력했다 컬러 사진이었다면 3을 입력했을것이다.\n",
    "# 255로 나눈이유는 0~255 까지 있기때문에 255 -> 흰, 0 -> 검정, 그래서 값이 너무 커져서 255로 나눈것이다."
   ]
  },
  {
   "cell_type": "code",
   "execution_count": 7,
   "metadata": {},
   "outputs": [
    {
     "data": {
      "text/plain": [
       "((60000, 10), (10000, 10))"
      ]
     },
     "execution_count": 7,
     "metadata": {},
     "output_type": "execute_result"
    }
   ],
   "source": [
    "y_train = np.eye(10)[y_train]\n",
    "y_test = np.eye(10)[y_test]\n",
    "y_train.shape, y_test.shape"
   ]
  },
  {
   "cell_type": "code",
   "execution_count": 8,
   "metadata": {},
   "outputs": [],
   "source": [
    "# CNN 설계"
   ]
  },
  {
   "cell_type": "code",
   "execution_count": 9,
   "metadata": {},
   "outputs": [
    {
     "name": "stdout",
     "output_type": "stream",
     "text": [
      "Metal device set to: Apple M1\n",
      "\n",
      "systemMemory: 8.00 GB\n",
      "maxCacheSize: 2.67 GB\n",
      "\n"
     ]
    },
    {
     "name": "stderr",
     "output_type": "stream",
     "text": [
      "2022-05-20 19:45:04.233215: I tensorflow/core/common_runtime/pluggable_device/pluggable_device_factory.cc:305] Could not identify NUMA node of platform GPU ID 0, defaulting to 0. Your kernel may not have been built with NUMA support.\n",
      "2022-05-20 19:45:04.233402: I tensorflow/core/common_runtime/pluggable_device/pluggable_device_factory.cc:271] Created TensorFlow device (/job:localhost/replica:0/task:0/device:GPU:0 with 0 MB memory) -> physical PluggableDevice (device: 0, name: METAL, pci bus id: <undefined>)\n"
     ]
    }
   ],
   "source": [
    "model = keras.models.Sequential()\n",
    "model.add(keras.layers.Conv2D(filters=30, kernel_size=(3,3), padding='same',\n",
    "                              activation='relu', input_shape=(28,28,1))) \n",
    "#filters=30 필터를 30으로 초기화\n",
    "model.add(keras.layers.MaxPool2D(pool_size=(2,2)))\n",
    "model.add(keras.layers.Conv2D(filters=60, kernel_size=(3,3), padding='same',\n",
    "                              activation='relu'))\n",
    "model.add(keras.layers.MaxPool2D(pool_size=(2,2)))\n",
    "model.add(keras.layers.Conv2D(filters=120, kernel_size=(3,3), padding='same',\n",
    "                              activation='relu'))\n",
    "model.add(keras.layers.MaxPool2D(pool_size=(2,2)))\n",
    "model.add(keras.layers.Flatten())\n",
    "model.add(keras.layers.Dense(100, activation='relu'))\n",
    "model.add(keras.layers.Dense(10, activation='softmax'))"
   ]
  },
  {
   "cell_type": "code",
   "execution_count": 13,
   "metadata": {},
   "outputs": [
    {
     "name": "stdout",
     "output_type": "stream",
     "text": [
      "Model: \"sequential\"\n",
      "_________________________________________________________________\n",
      " Layer (type)                Output Shape              Param #   \n",
      "=================================================================\n",
      " conv2d (Conv2D)             (None, 28, 28, 30)        300       \n",
      "                                                                 \n",
      " max_pooling2d (MaxPooling2D  (None, 14, 14, 30)       0         \n",
      " )                                                               \n",
      "                                                                 \n",
      " conv2d_1 (Conv2D)           (None, 14, 14, 60)        16260     \n",
      "                                                                 \n",
      " max_pooling2d_1 (MaxPooling  (None, 7, 7, 60)         0         \n",
      " 2D)                                                             \n",
      "                                                                 \n",
      " conv2d_2 (Conv2D)           (None, 7, 7, 120)         64920     \n",
      "                                                                 \n",
      " max_pooling2d_2 (MaxPooling  (None, 3, 3, 120)        0         \n",
      " 2D)                                                             \n",
      "                                                                 \n",
      " flatten (Flatten)           (None, 1080)              0         \n",
      "                                                                 \n",
      " dense (Dense)               (None, 100)               108100    \n",
      "                                                                 \n",
      " dense_1 (Dense)             (None, 10)                1010      \n",
      "                                                                 \n",
      "=================================================================\n",
      "Total params: 190,590\n",
      "Trainable params: 190,590\n",
      "Non-trainable params: 0\n",
      "_________________________________________________________________\n"
     ]
    }
   ],
   "source": [
    "# 설계도 출력\n",
    "\n",
    "model.summary()"
   ]
  },
  {
   "cell_type": "code",
   "execution_count": 11,
   "metadata": {},
   "outputs": [],
   "source": [
    "model.compile(loss='categorical_crossentropy', optimizer='adam', metrics=['acc'])"
   ]
  },
  {
   "cell_type": "code",
   "execution_count": 14,
   "metadata": {},
   "outputs": [
    {
     "name": "stdout",
     "output_type": "stream",
     "text": [
      "Epoch 1/30\n",
      "450/450 [==============================] - 8s 19ms/step - loss: 0.0087 - acc: 0.9968 - val_loss: 0.0475 - val_acc: 0.9881\n",
      "Epoch 2/30\n",
      "450/450 [==============================] - 8s 18ms/step - loss: 0.0096 - acc: 0.9966 - val_loss: 0.0485 - val_acc: 0.9865\n",
      "Epoch 3/30\n",
      "450/450 [==============================] - 8s 18ms/step - loss: 0.0070 - acc: 0.9977 - val_loss: 0.0418 - val_acc: 0.9895\n",
      "Epoch 4/30\n",
      "450/450 [==============================] - 8s 18ms/step - loss: 0.0056 - acc: 0.9980 - val_loss: 0.0531 - val_acc: 0.9891\n",
      "Epoch 5/30\n",
      "450/450 [==============================] - 8s 18ms/step - loss: 0.0078 - acc: 0.9973 - val_loss: 0.0463 - val_acc: 0.9891\n",
      "Epoch 6/30\n",
      "450/450 [==============================] - 8s 18ms/step - loss: 0.0055 - acc: 0.9983 - val_loss: 0.0475 - val_acc: 0.9874\n",
      "Epoch 7/30\n",
      "450/450 [==============================] - 8s 18ms/step - loss: 0.0048 - acc: 0.9985 - val_loss: 0.0423 - val_acc: 0.9903\n",
      "Epoch 8/30\n",
      "450/450 [==============================] - 8s 18ms/step - loss: 0.0057 - acc: 0.9982 - val_loss: 0.0468 - val_acc: 0.9889\n",
      "Epoch 9/30\n",
      "450/450 [==============================] - 8s 18ms/step - loss: 0.0048 - acc: 0.9984 - val_loss: 0.0443 - val_acc: 0.9897\n",
      "Epoch 10/30\n",
      "450/450 [==============================] - 8s 18ms/step - loss: 0.0041 - acc: 0.9986 - val_loss: 0.0416 - val_acc: 0.9903\n",
      "Epoch 11/30\n",
      "450/450 [==============================] - 8s 18ms/step - loss: 0.0036 - acc: 0.9989 - val_loss: 0.0486 - val_acc: 0.9897\n",
      "Epoch 12/30\n",
      "450/450 [==============================] - 8s 18ms/step - loss: 0.0055 - acc: 0.9984 - val_loss: 0.0592 - val_acc: 0.9879\n",
      "Epoch 13/30\n",
      "450/450 [==============================] - 8s 18ms/step - loss: 0.0050 - acc: 0.9983 - val_loss: 0.0465 - val_acc: 0.9904\n",
      "Epoch 14/30\n",
      "450/450 [==============================] - 8s 18ms/step - loss: 0.0018 - acc: 0.9995 - val_loss: 0.0447 - val_acc: 0.9914\n",
      "Epoch 15/30\n",
      "450/450 [==============================] - 8s 18ms/step - loss: 0.0041 - acc: 0.9988 - val_loss: 0.0537 - val_acc: 0.9887\n",
      "Epoch 16/30\n",
      "450/450 [==============================] - 8s 18ms/step - loss: 0.0039 - acc: 0.9989 - val_loss: 0.0519 - val_acc: 0.9891\n",
      "Epoch 17/30\n",
      "450/450 [==============================] - 8s 18ms/step - loss: 0.0033 - acc: 0.9989 - val_loss: 0.0470 - val_acc: 0.9906\n",
      "Epoch 18/30\n",
      "450/450 [==============================] - 8s 18ms/step - loss: 0.0042 - acc: 0.9988 - val_loss: 0.0569 - val_acc: 0.9877\n",
      "Epoch 19/30\n",
      "450/450 [==============================] - 8s 18ms/step - loss: 0.0023 - acc: 0.9992 - val_loss: 0.0517 - val_acc: 0.9903\n",
      "Epoch 20/30\n",
      "450/450 [==============================] - 8s 18ms/step - loss: 0.0035 - acc: 0.9989 - val_loss: 0.0506 - val_acc: 0.9887\n",
      "Epoch 21/30\n",
      "450/450 [==============================] - 8s 18ms/step - loss: 0.0011 - acc: 0.9997 - val_loss: 0.0645 - val_acc: 0.9903\n",
      "Epoch 22/30\n",
      "450/450 [==============================] - 8s 18ms/step - loss: 0.0049 - acc: 0.9984 - val_loss: 0.0522 - val_acc: 0.9896\n",
      "Epoch 23/30\n",
      "450/450 [==============================] - 8s 18ms/step - loss: 0.0044 - acc: 0.9986 - val_loss: 0.0583 - val_acc: 0.9897\n",
      "Epoch 24/30\n",
      "450/450 [==============================] - 8s 18ms/step - loss: 0.0018 - acc: 0.9994 - val_loss: 0.0707 - val_acc: 0.9898\n",
      "Epoch 25/30\n",
      "450/450 [==============================] - 8s 18ms/step - loss: 8.4097e-04 - acc: 0.9997 - val_loss: 0.0737 - val_acc: 0.9899\n",
      "Epoch 26/30\n",
      "450/450 [==============================] - 8s 18ms/step - loss: 0.0052 - acc: 0.9986 - val_loss: 0.0657 - val_acc: 0.9890\n",
      "Epoch 27/30\n",
      "450/450 [==============================] - 8s 18ms/step - loss: 0.0034 - acc: 0.9988 - val_loss: 0.0611 - val_acc: 0.9889\n",
      "Epoch 28/30\n",
      "450/450 [==============================] - 9s 19ms/step - loss: 0.0015 - acc: 0.9994 - val_loss: 0.0563 - val_acc: 0.9909\n",
      "Epoch 29/30\n",
      "450/450 [==============================] - 9s 19ms/step - loss: 0.0012 - acc: 0.9996 - val_loss: 0.0544 - val_acc: 0.9914\n",
      "Epoch 30/30\n",
      "450/450 [==============================] - 8s 19ms/step - loss: 0.0012 - acc: 0.9997 - val_loss: 0.0544 - val_acc: 0.9913\n"
     ]
    }
   ],
   "source": [
    "history = model.fit(X_train, y_train, epochs=30, batch_size=100, validation_split=0.25)"
   ]
  },
  {
   "cell_type": "code",
   "execution_count": 16,
   "metadata": {},
   "outputs": [
    {
     "name": "stderr",
     "output_type": "stream",
     "text": [
      "/var/folders/_9/_76hb5wn6dn4nzlsvrngz8jc0000gn/T/ipykernel_20872/4219645196.py:11: UserWarning: Legend does not support 'l' instances.\n",
      "A proxy artist may be used instead.\n",
      "See: https://matplotlib.org/users/legend_guide.html#creating-artists-specifically-for-adding-to-the-legend-aka-proxy-artists\n",
      "  plt.legend('los', \"val_loss\")\n",
      "/var/folders/_9/_76hb5wn6dn4nzlsvrngz8jc0000gn/T/ipykernel_20872/4219645196.py:11: UserWarning: Legend does not support 'o' instances.\n",
      "A proxy artist may be used instead.\n",
      "See: https://matplotlib.org/users/legend_guide.html#creating-artists-specifically-for-adding-to-the-legend-aka-proxy-artists\n",
      "  plt.legend('los', \"val_loss\")\n",
      "/var/folders/_9/_76hb5wn6dn4nzlsvrngz8jc0000gn/T/ipykernel_20872/4219645196.py:11: UserWarning: Legend does not support 's' instances.\n",
      "A proxy artist may be used instead.\n",
      "See: https://matplotlib.org/users/legend_guide.html#creating-artists-specifically-for-adding-to-the-legend-aka-proxy-artists\n",
      "  plt.legend('los', \"val_loss\")\n"
     ]
    },
    {
     "data": {
      "text/plain": [
       "<matplotlib.legend.Legend at 0x1482befd0>"
      ]
     },
     "execution_count": 16,
     "metadata": {},
     "output_type": "execute_result"
    },
    {
     "data": {
      "image/png": "[encoded data removed]",
      "text/plain": [
       "<Figure size 432x288 with 2 Axes>"
      ]
     },
     "metadata": {
      "needs_background": "light"
     },
     "output_type": "display_data"
    }
   ],
   "source": [
    "# 검증데이터랑 러닝데이터 비교\n",
    "\n",
    "plt.subplot(1, 2, 1)\n",
    "plt.plot(history.history['acc'])\n",
    "plt.plot(history.history['val_acc'])\n",
    "plt.legend(['acc', 'val_acc'])\n",
    "\n",
    "plt.subplot(1, 2, 2)\n",
    "plt.plot(history.history['loss'])\n",
    "plt.plot(history.history['val_loss'])\n",
    "plt.legend('los', \"val_loss\")\n"
   ]
  },
  {
   "cell_type": "code",
   "execution_count": 17,
   "metadata": {},
   "outputs": [
    {
     "name": "stderr",
     "output_type": "stream",
     "text": [
      "2022-05-20 20:30:14.158923: I tensorflow/core/grappler/optimizers/custom_graph_optimizer_registry.cc:113] Plugin optimizer for device_type GPU is enabled.\n"
     ]
    },
    {
     "name": "stdout",
     "output_type": "stream",
     "text": [
      "313/313 [==============================] - 2s 4ms/step\n"
     ]
    },
    {
     "data": {
      "text/plain": [
       "(10000, 10)"
      ]
     },
     "execution_count": 17,
     "metadata": {},
     "output_type": "execute_result"
    }
   ],
   "source": [
    "y_pred = model.predict(X_test)\n",
    "y_pred.shape"
   ]
  },
  {
   "cell_type": "code",
   "execution_count": 18,
   "metadata": {},
   "outputs": [
    {
     "data": {
      "text/plain": [
       "(array([  18,  445,  449,  625,  646,  740,  926,  938, 1014, 1039, 1112,\n",
       "        1166, 1182, 1232, 1247, 1260, 1709, 1901, 2035, 2070, 2130, 2135,\n",
       "        2185, 2447, 2462, 2597, 2654, 2896, 2927, 2939, 2952, 2953, 2995,\n",
       "        3225, 3422, 3441, 3451, 3520, 3534, 3727, 3762, 3808, 4078, 4176,\n",
       "        4284, 4289, 4443, 4487, 4504, 4536, 4740, 4761, 4807, 4823, 4860,\n",
       "        5140, 5654, 5955, 5997, 6173, 6571, 6576, 6597, 6625, 6783, 8246,\n",
       "        8316, 9505, 9540, 9642, 9664, 9729, 9904]),)"
      ]
     },
     "execution_count": 18,
     "metadata": {},
     "output_type": "execute_result"
    }
   ],
   "source": [
    "# 오류 찾기\n",
    "np.where(y_pred.argmax(axis=1) != y_test.argmax(axis=1))"
   ]
  },
  {
   "cell_type": "code",
   "execution_count": 128,
   "metadata": {},
   "outputs": [
    {
     "data": {
      "image/png": "[encoded data removed]",
      "text/plain": [
       "<Figure size 432x288 with 30 Axes>"
      ]
     },
     "metadata": {
      "needs_background": "light"
     },
     "output_type": "display_data"
    }
   ],
   "source": [
    "# 오류 보여주기\n",
    "max = 30\n",
    "\n",
    "for n in np.arange(max) + 1:\n",
    "    plt.subplot(int(max/10), 10, n)\n",
    "    plt.title(np.argmax(y_test[n]))\n",
    "    plt.imshow(X_test[n,:,:,0], cmap='gray'"
   ]
  },
  {
   "cell_type": "code",
   "execution_count": null,
   "metadata": {},
   "outputs": [],
   "source": []
  }
 ],
 "metadata": {
  "interpreter": {
   "hash": "25a10900bb04da2cb9f55ad7c1827046ca73a702f166764fe65b6f65cb29e7e9"
  },
  "kernelspec": {
   "display_name": "Python 3.8.13 ('tf25')",
   "language": "python",
   "name": "python3"
  },
  "language_info": {
   "codemirror_mode": {
    "name": "ipython",
    "version": 3
   },
   "file_extension": ".py",
   "mimetype": "text/x-python",
   "name": "python",
   "nbconvert_exporter": "python",
   "pygments_lexer": "ipython3",
   "version": "3.8.13"
  },
  "orig_nbformat": 4
 },
 "nbformat": 4,
 "nbformat_minor": 2
}
