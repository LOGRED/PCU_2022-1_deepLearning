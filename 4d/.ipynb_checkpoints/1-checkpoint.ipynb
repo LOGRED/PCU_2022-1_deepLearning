{
 "cells": [
  {
   "cell_type": "code",
   "execution_count": 64,
   "metadata": {},
   "outputs": [],
   "source": [
    "import numpy as np\n",
    "import matplotlib.pyplot as plt\n",
    "import pandas as pd\n",
    "\n",
    "from sklearn.datasets import load_iris\n",
    "iris = load_iris()"
   ]
  },
  {
   "cell_type": "code",
   "execution_count": null,
   "metadata": {},
   "outputs": [],
   "source": []
  },
  {
   "cell_type": "code",
   "execution_count": 65,
   "metadata": {},
   "outputs": [],
   "source": [
    "X = iris.data[:, 2] # 입력값\n",
    "y = iris.data[:, 3] # 목표값\n",
    "\n",
    "X = iris.data[:, [2]]"
   ]
  },
  {
   "cell_type": "code",
   "execution_count": 66,
   "metadata": {},
   "outputs": [],
   "source": [
    "from sklearn.linear_model import LinearRegression"
   ]
  },
  {
   "cell_type": "code",
   "execution_count": 67,
   "metadata": {},
   "outputs": [
    {
     "name": "stdout",
     "output_type": "stream",
     "text": [
      "[0.21898206 0.21898206 0.17740652 0.2605576  0.21898206 0.34370869\n",
      " 0.21898206 0.2605576  0.21898206 0.2605576  0.2605576  0.30213314\n",
      " 0.21898206 0.09425544 0.13583098 0.2605576  0.17740652 0.21898206\n",
      " 0.34370869 0.2605576  0.34370869 0.2605576  0.0526799  0.34370869\n",
      " 0.42685977 0.30213314 0.30213314 0.2605576  0.21898206 0.30213314\n",
      " 0.30213314 0.2605576  0.2605576  0.21898206 0.2605576  0.13583098\n",
      " 0.17740652 0.21898206 0.17740652 0.2605576  0.17740652 0.17740652\n",
      " 0.17740652 0.30213314 0.42685977 0.21898206 0.30213314 0.21898206\n",
      " 0.2605576  0.21898206 1.59097494 1.50782385 1.67412602 1.29994614\n",
      " 1.54939939 1.50782385 1.59097494 1.00891735 1.54939939 1.2583706\n",
      " 1.09206844 1.38309723 1.29994614 1.59097494 1.13364398 1.46624831\n",
      " 1.50782385 1.34152169 1.50782385 1.2583706  1.63255048 1.29994614\n",
      " 1.67412602 1.59097494 1.42467277 1.46624831 1.63255048 1.71570156\n",
      " 1.50782385 1.09206844 1.21679506 1.17521952 1.2583706  1.7572771\n",
      " 1.50782385 1.50782385 1.59097494 1.46624831 1.34152169 1.29994614\n",
      " 1.46624831 1.54939939 1.29994614 1.00891735 1.38309723 1.38309723\n",
      " 1.38309723 1.42467277 0.88419073 1.34152169 2.13145698 1.7572771\n",
      " 2.08988144 1.96515481 2.04830589 2.38091023 1.50782385 2.2561836\n",
      " 2.04830589 2.17303252 1.7572771  1.84042819 1.92357927 1.71570156\n",
      " 1.7572771  1.84042819 1.92357927 2.42248577 2.50563685 1.71570156\n",
      " 2.00673035 1.67412602 2.42248577 1.67412602 2.00673035 2.13145698\n",
      " 1.63255048 1.67412602 1.96515481 2.04830589 2.17303252 2.29775914\n",
      " 1.96515481 1.7572771  1.96515481 2.17303252 1.96515481 1.92357927\n",
      " 1.63255048 1.88200373 1.96515481 1.7572771  1.7572771  2.08988144\n",
      " 2.00673035 1.79885264 1.71570156 1.79885264 1.88200373 1.7572771 ]\n"
     ]
    }
   ],
   "source": [
    "model = LinearRegression() # Regression --> 회귀\n",
    "model.fit(X, y) # 훈련\n",
    "y_pred = model.predict(X) # X로 y예측, predict --> 예측하다\n",
    "print(y_pred)"
   ]
  },
  {
   "cell_type": "code",
   "execution_count": 68,
   "metadata": {},
   "outputs": [
    {
     "data": {
      "text/plain": [
       "(0.705, 7.195, -0.06996795279057898, 2.628284699336572)"
      ]
     },
     "execution_count": 68,
     "metadata": {},
     "output_type": "execute_result"
    },
    {
     "data": {
      "image/png": "[encoded data removed]",
      "text/plain": [
       "<Figure size 432x288 with 2 Axes>"
      ]
     },
     "metadata": {
      "needs_background": "light"
     },
     "output_type": "display_data"
    }
   ],
   "source": [
    "plt.scatter(X[:, 0], y, c=iris.target) # 원본 데이터\n",
    "plt.plot(X[:, 0], y_pred, 'r') # 예측 데이터\n",
    "plt.colorbar()\n",
    "plt.axis('scaled') # 단위를 같게 한다.."
   ]
  },
  {
   "cell_type": "code",
   "execution_count": 69,
   "metadata": {},
   "outputs": [
    {
     "data": {
      "text/plain": [
       "0.9271098389904927"
      ]
     },
     "execution_count": 69,
     "metadata": {},
     "output_type": "execute_result"
    }
   ],
   "source": [
    "model.score(X, y)"
   ]
  },
  {
   "cell_type": "code",
   "execution_count": 70,
   "metadata": {},
   "outputs": [
    {
     "data": {
      "text/plain": [
       "array([0.41575542])"
      ]
     },
     "execution_count": 70,
     "metadata": {},
     "output_type": "execute_result"
    }
   ],
   "source": [
    "model.coef_ # 가중치?"
   ]
  },
  {
   "cell_type": "code",
   "execution_count": 71,
   "metadata": {},
   "outputs": [
    {
     "data": {
      "text/plain": [
       "-0.3630755213190291"
      ]
     },
     "execution_count": 71,
     "metadata": {},
     "output_type": "execute_result"
    }
   ],
   "source": [
    "model.intercept_"
   ]
  },
  {
   "cell_type": "code",
   "execution_count": 72,
   "metadata": {},
   "outputs": [
    {
     "data": {
      "text/plain": [
       "((150, 2), (150,))"
      ]
     },
     "execution_count": 72,
     "metadata": {},
     "output_type": "execute_result"
    }
   ],
   "source": [
    "X = iris.data[:, :2]\n",
    "y = np.array([0] * 50 + [1] * 100) # 0 50개, 1 100개 생성\n",
    "\n",
    "X.shape, y.shape"
   ]
  },
  {
   "cell_type": "code",
   "execution_count": 73,
   "metadata": {},
   "outputs": [
    {
     "data": {
      "text/plain": [
       "array([0, 0, 0, 0, 0, 0, 0, 0, 0, 0, 0, 0, 0, 0, 0, 0, 0, 0, 0, 0, 0, 0,\n",
       "       0, 0, 0, 0, 0, 0, 0, 0, 0, 0, 0, 0, 0, 0, 0, 0, 0, 0, 0, 0, 0, 0,\n",
       "       0, 0, 0, 0, 0, 0, 1, 1, 1, 1, 1, 1, 1, 1, 1, 1, 1, 1, 1, 1, 1, 1,\n",
       "       1, 1, 1, 1, 1, 1, 1, 1, 1, 1, 1, 1, 1, 1, 1, 1, 1, 1, 1, 1, 1, 1,\n",
       "       1, 1, 1, 1, 1, 1, 1, 1, 1, 1, 1, 1, 1, 1, 1, 1, 1, 1, 1, 1, 1, 1,\n",
       "       1, 1, 1, 1, 1, 1, 1, 1, 1, 1, 1, 1, 1, 1, 1, 1, 1, 1, 1, 1, 1, 1,\n",
       "       1, 1, 1, 1, 1, 1, 1, 1, 1, 1, 1, 1, 1, 1, 1, 1, 1, 1])"
      ]
     },
     "execution_count": 73,
     "metadata": {},
     "output_type": "execute_result"
    }
   ],
   "source": [
    "y"
   ]
  },
  {
   "cell_type": "code",
   "execution_count": 74,
   "metadata": {},
   "outputs": [],
   "source": [
    "from sklearn.linear_model import LogisticRegression"
   ]
  },
  {
   "cell_type": "code",
   "execution_count": 75,
   "metadata": {},
   "outputs": [
    {
     "data": {
      "text/plain": [
       "<matplotlib.image.AxesImage at 0x7f507eb610a0>"
      ]
     },
     "execution_count": 75,
     "metadata": {},
     "output_type": "execute_result"
    },
    {
     "data": {
      "image/png": "[encoded data removed]",
      "text/plain": [
       "<Figure size 432x288 with 1 Axes>"
      ]
     },
     "metadata": {
      "needs_background": "light"
     },
     "output_type": "display_data"
    }
   ],
   "source": [
    "model = LogisticRegression()\n",
    "model.fit(X, y)\n",
    "y_pred = model.predict(X)\n",
    "plt.subplot(1, 1, 1)\n",
    "plt.imshow(y_pred.reshape(10,15))\n"
   ]
  },
  {
   "cell_type": "code",
   "execution_count": 76,
   "metadata": {},
   "outputs": [
    {
     "data": {
      "text/plain": [
       "<matplotlib.image.AxesImage at 0x7f507eb01430>"
      ]
     },
     "execution_count": 76,
     "metadata": {},
     "output_type": "execute_result"
    },
    {
     "data": {
      "image/png": "[encoded data removed]",
      "text/plain": [
       "<Figure size 432x288 with 1 Axes>"
      ]
     },
     "metadata": {
      "needs_background": "light"
     },
     "output_type": "display_data"
    }
   ],
   "source": [
    "plt.imshow(y.reshape(10, 15))"
   ]
  },
  {
   "cell_type": "code",
   "execution_count": 77,
   "metadata": {},
   "outputs": [
    {
     "data": {
      "text/plain": [
       "(array([ 3.38829757, -3.1645277 ]), -8.323303886430969)"
      ]
     },
     "execution_count": 77,
     "metadata": {},
     "output_type": "execute_result"
    }
   ],
   "source": [
    "w = model.coef_[0]\n",
    "b = model.intercept_[0]\n",
    "\n",
    "w, b"
   ]
  },
  {
   "cell_type": "code",
   "execution_count": 78,
   "metadata": {},
   "outputs": [
    {
     "data": {
      "text/plain": [
       "(3.8, 8.2, 1.4385169954315908, 6.149649498942233)"
      ]
     },
     "execution_count": 78,
     "metadata": {},
     "output_type": "execute_result"
    },
    {
     "data": {
      "image/png": "[encoded data removed]",
      "text/plain": [
       "<Figure size 432x288 with 1 Axes>"
      ]
     },
     "metadata": {
      "needs_background": "light"
     },
     "output_type": "display_data"
    }
   ],
   "source": [
    "xs = np.array([4, 8])\n",
    "ys = -(w[0]*xs + b) / w[1]\n",
    "\n",
    "plt.scatter(X[:, 0], X[:, 1], c=y, alpha=0.5)\n",
    "plt.plot(xs, ys, 'r')\n",
    "plt.axis('scaled')"
   ]
  },
  {
   "cell_type": "code",
   "execution_count": 79,
   "metadata": {},
   "outputs": [],
   "source": [
    "X = iris.data[50:, [0, 1]]\n",
    "y = np.array([0]*50 + [1] * 50)"
   ]
  },
  {
   "cell_type": "code",
   "execution_count": 90,
   "metadata": {},
   "outputs": [],
   "source": [
    "model = LogisticRegression()\n",
    "model.fit(X, y)\n",
    "y_pred = model.predict(X)"
   ]
  },
  {
   "cell_type": "code",
   "execution_count": 91,
   "metadata": {},
   "outputs": [
    {
     "data": {
      "text/plain": [
       "(array([1.5890194 , 0.40894657]), -11.105898614396413)"
      ]
     },
     "execution_count": 91,
     "metadata": {},
     "output_type": "execute_result"
    }
   ],
   "source": [
    "w = model.coef_[0]\n",
    "b = model.intercept_[0]\n",
    "\n",
    "w, b"
   ]
  },
  {
   "cell_type": "code",
   "execution_count": 92,
   "metadata": {},
   "outputs": [
    {
     "data": {
      "text/plain": [
       "(1.5, 4.5)"
      ]
     },
     "execution_count": 92,
     "metadata": {},
     "output_type": "execute_result"
    },
    {
     "data": {
      "image/png": "[encoded data removed]",
      "text/plain": [
       "<Figure size 432x288 with 2 Axes>"
      ]
     },
     "metadata": {
      "needs_background": "light"
     },
     "output_type": "display_data"
    }
   ],
   "source": [
    "xs = np.array([4, 8])\n",
    "ys = -(w[0]*xs + b)/w[1]\n",
    "\n",
    "plt.scatter(X[:,0], X[:,1], c=y)\n",
    "plt.colorbar()\n",
    "plt.plot(xs, ys, 'r')\n",
    "plt.axis('scaled')\n",
    "plt.ylim([1.5, 4.5])"
   ]
  },
  {
   "cell_type": "code",
   "execution_count": 93,
   "metadata": {},
   "outputs": [],
   "source": [
    "import mglearn"
   ]
  },
  {
   "cell_type": "code",
   "execution_count": 94,
   "metadata": {},
   "outputs": [
    {
     "data": {
      "text/plain": [
       "<matplotlib.legend.Legend at 0x7f507dea7400>"
      ]
     },
     "execution_count": 94,
     "metadata": {},
     "output_type": "execute_result"
    },
    {
     "data": {
      "image/png": "[encoded data removed]",
      "text/plain": [
       "<Figure size 432x288 with 1 Axes>"
      ]
     },
     "metadata": {},
     "output_type": "display_data"
    }
   ],
   "source": [
    "mglearn.plots.plot_2d_separator(model, X, fill=True, eps=0.5, alpha=0.4)\n",
    "mglearn.discrete_scatter(X[:,0], X[:,1], y)\n",
    "plt.legend(loc=4)"
   ]
  },
  {
   "cell_type": "code",
   "execution_count": null,
   "metadata": {},
   "outputs": [],
   "source": []
  }
 ],
 "metadata": {
  "interpreter": {
   "hash": "31f2aee4e71d21fbe5cf8b01ff0e069b9275f58929596ceb00d14d90e3e16cd6"
  },
  "kernelspec": {
   "display_name": "Python 3",
   "language": "python",
   "name": "python3"
  },
  "language_info": {
   "codemirror_mode": {
    "name": "ipython",
    "version": 3
   },
   "file_extension": ".py",
   "mimetype": "text/x-python",
   "name": "python",
   "nbconvert_exporter": "python",
   "pygments_lexer": "ipython3",
   "version": "3.8.10"
  }
 },
 "nbformat": 4,
 "nbformat_minor": 2
}
