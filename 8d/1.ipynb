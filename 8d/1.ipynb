{
 "cells": [
  {
   "cell_type": "markdown",
   "metadata": {},
   "source": [
    "***\n",
    "## 자연어 처리\n",
    "\n",
    "-문장을 바로 처리하기 힘들기 때문에 단어로 처리"
   ]
  },
  {
   "cell_type": "code",
   "execution_count": 1,
   "metadata": {},
   "outputs": [],
   "source": [
    "import numpy as np\n",
    "import pandas as pd\n",
    "import matplotlib.pyplot as plt"
   ]
  },
  {
   "cell_type": "code",
   "execution_count": 2,
   "metadata": {},
   "outputs": [],
   "source": [
    "doce = ['There is a boy.',\n",
    " 'The boy is ver pretty.',\n",
    "  'The vernacular was not the stuff of parliamentary propriety — “I need to take a minute,” he wrote about stepping back from the trail — but that was the point, as is often the case with Fetterman. At 6-foot-8, with a shiny pate, a salt-and-pepper goatee, tattooed arms and a sports-bar fashion sense, Fetterman was announcing from a hospital bed that even in illness he remained a different kind of Democrat.',\n",
    "  'Republicans were set to choose Tuesday among three leading Senate candidates in a hard-fought primary contest — physician and celebrity Mehmet Oz, backed by Trump; financier David McCormick; and upstart Kathy Barnette, who on Jan. 6, 2021, participated in the “Stop the Steal” rally that preceded the violent assault on the U.S. Capitol.']"
   ]
  },
  {
   "cell_type": "code",
   "execution_count": 3,
   "metadata": {},
   "outputs": [
    {
     "data": {
      "text/plain": [
       "[['there', 'is', 'a', 'boy'],\n",
       " ['the', 'boy', 'is', 'ver', 'pretty'],\n",
       " ['the',\n",
       "  'vernacular',\n",
       "  'was',\n",
       "  'not',\n",
       "  'the',\n",
       "  'stuff',\n",
       "  'of',\n",
       "  'parliamentary',\n",
       "  'propriety',\n",
       "  '—',\n",
       "  '“i',\n",
       "  'need',\n",
       "  'to',\n",
       "  'take',\n",
       "  'a',\n",
       "  'minute,”',\n",
       "  'he',\n",
       "  'wrote',\n",
       "  'about',\n",
       "  'stepping',\n",
       "  'back',\n",
       "  'from',\n",
       "  'the',\n",
       "  'trail',\n",
       "  '—',\n",
       "  'but',\n",
       "  'that',\n",
       "  'was',\n",
       "  'the',\n",
       "  'point,',\n",
       "  'as',\n",
       "  'is',\n",
       "  'often',\n",
       "  'the',\n",
       "  'case',\n",
       "  'with',\n",
       "  'fetterman',\n",
       "  'at',\n",
       "  '6-foot-8,',\n",
       "  'with',\n",
       "  'a',\n",
       "  'shiny',\n",
       "  'pate,',\n",
       "  'a',\n",
       "  'salt-and-pepper',\n",
       "  'goatee,',\n",
       "  'tattooed',\n",
       "  'arms',\n",
       "  'and',\n",
       "  'a',\n",
       "  'sports-bar',\n",
       "  'fashion',\n",
       "  'sense,',\n",
       "  'fetterman',\n",
       "  'was',\n",
       "  'announcing',\n",
       "  'from',\n",
       "  'a',\n",
       "  'hospital',\n",
       "  'bed',\n",
       "  'that',\n",
       "  'even',\n",
       "  'in',\n",
       "  'illness',\n",
       "  'he',\n",
       "  'remained',\n",
       "  'a',\n",
       "  'different',\n",
       "  'kind',\n",
       "  'of',\n",
       "  'democrat'],\n",
       " ['republicans',\n",
       "  'were',\n",
       "  'set',\n",
       "  'to',\n",
       "  'choose',\n",
       "  'tuesday',\n",
       "  'among',\n",
       "  'three',\n",
       "  'leading',\n",
       "  'senate',\n",
       "  'candidates',\n",
       "  'in',\n",
       "  'a',\n",
       "  'hard-fought',\n",
       "  'primary',\n",
       "  'contest',\n",
       "  '—',\n",
       "  'physician',\n",
       "  'and',\n",
       "  'celebrity',\n",
       "  'mehmet',\n",
       "  'oz,',\n",
       "  'backed',\n",
       "  'by',\n",
       "  'trump;',\n",
       "  'financier',\n",
       "  'david',\n",
       "  'mccormick;',\n",
       "  'and',\n",
       "  'upstart',\n",
       "  'kathy',\n",
       "  'barnette,',\n",
       "  'who',\n",
       "  'on',\n",
       "  'jan',\n",
       "  '6,',\n",
       "  '2021,',\n",
       "  'participated',\n",
       "  'in',\n",
       "  'the',\n",
       "  '“stop',\n",
       "  'the',\n",
       "  'steal”',\n",
       "  'rally',\n",
       "  'that',\n",
       "  'preceded',\n",
       "  'the',\n",
       "  'violent',\n",
       "  'assault',\n",
       "  'on',\n",
       "  'the',\n",
       "  'us',\n",
       "  'capitol']]"
      ]
     },
     "execution_count": 3,
     "metadata": {},
     "output_type": "execute_result"
    }
   ],
   "source": [
    "data = []\n",
    "for s in doce:\n",
    "    s2= s.replace('.', '')\n",
    "    s2 = s2.lower()\n",
    "    data.append(s2.split())\n",
    "    \n",
    "data"
   ]
  },
  {
   "cell_type": "markdown",
   "metadata": {},
   "source": [
    "## 딕셔너리(dictionary)\n",
    "- ``사람은 누구든지 \"이름\" = \"홍길동\", \"생일\" = \"몇 월 며칠\" 등으로 구별할 수 있다. 파이썬은 영리하게도 이러한 대응 관계를 나타낼 수 있는 자료형을 가지고 있다. 요즘 사용하는 대부분의 언어도 이러한 대응 관계를 나타내는 자료형을 갖고 있는데, 이를 연관 배열(Associative array) 또는 해시(Hash)라고 한다.``\n",
    "\n",
    "- ``ex) dic = {'name':'pey', 'phone':'0119993323', 'birth': '1118'}``\n",
    "\n",
    "|dic|key|value|\n",
    "|---|---|-----|\n",
    "|---|name|pey|\n",
    "|---|phone|01199993323|\n",
    "|---|birth|1118|\n",
    "\n"
   ]
  },
  {
   "cell_type": "code",
   "execution_count": 4,
   "metadata": {},
   "outputs": [
    {
     "data": {
      "text/plain": [
       "{'there': 0,\n",
       " 'is': 1,\n",
       " 'a': 2,\n",
       " 'boy': 3,\n",
       " 'the': 4,\n",
       " 'ver': 5,\n",
       " 'pretty': 6,\n",
       " 'vernacular': 7,\n",
       " 'was': 8,\n",
       " 'not': 9,\n",
       " 'stuff': 10,\n",
       " 'of': 11,\n",
       " 'parliamentary': 12,\n",
       " 'propriety': 13,\n",
       " '—': 14,\n",
       " '“i': 15,\n",
       " 'need': 16,\n",
       " 'to': 17,\n",
       " 'take': 18,\n",
       " 'minute,”': 19,\n",
       " 'he': 20,\n",
       " 'wrote': 21,\n",
       " 'about': 22,\n",
       " 'stepping': 23,\n",
       " 'back': 24,\n",
       " 'from': 25,\n",
       " 'trail': 26,\n",
       " 'but': 27,\n",
       " 'that': 28,\n",
       " 'point,': 29,\n",
       " 'as': 30,\n",
       " 'often': 31,\n",
       " 'case': 32,\n",
       " 'with': 33,\n",
       " 'fetterman': 34,\n",
       " 'at': 35,\n",
       " '6-foot-8,': 36,\n",
       " 'shiny': 37,\n",
       " 'pate,': 38,\n",
       " 'salt-and-pepper': 39,\n",
       " 'goatee,': 40,\n",
       " 'tattooed': 41,\n",
       " 'arms': 42,\n",
       " 'and': 43,\n",
       " 'sports-bar': 44,\n",
       " 'fashion': 45,\n",
       " 'sense,': 46,\n",
       " 'announcing': 47,\n",
       " 'hospital': 48,\n",
       " 'bed': 49,\n",
       " 'even': 50,\n",
       " 'in': 51,\n",
       " 'illness': 52,\n",
       " 'remained': 53,\n",
       " 'different': 54,\n",
       " 'kind': 55,\n",
       " 'democrat': 56,\n",
       " 'republicans': 57,\n",
       " 'were': 58,\n",
       " 'set': 59,\n",
       " 'choose': 60,\n",
       " 'tuesday': 61,\n",
       " 'among': 62,\n",
       " 'three': 63,\n",
       " 'leading': 64,\n",
       " 'senate': 65,\n",
       " 'candidates': 66,\n",
       " 'hard-fought': 67,\n",
       " 'primary': 68,\n",
       " 'contest': 69,\n",
       " 'physician': 70,\n",
       " 'celebrity': 71,\n",
       " 'mehmet': 72,\n",
       " 'oz,': 73,\n",
       " 'backed': 74,\n",
       " 'by': 75,\n",
       " 'trump;': 76,\n",
       " 'financier': 77,\n",
       " 'david': 78,\n",
       " 'mccormick;': 79,\n",
       " 'upstart': 80,\n",
       " 'kathy': 81,\n",
       " 'barnette,': 82,\n",
       " 'who': 83,\n",
       " 'on': 84,\n",
       " 'jan': 85,\n",
       " '6,': 86,\n",
       " '2021,': 87,\n",
       " 'participated': 88,\n",
       " '“stop': 89,\n",
       " 'steal”': 90,\n",
       " 'rally': 91,\n",
       " 'preceded': 92,\n",
       " 'violent': 93,\n",
       " 'assault': 94,\n",
       " 'us': 95,\n",
       " 'capitol': 96}"
      ]
     },
     "execution_count": 4,
     "metadata": {},
     "output_type": "execute_result"
    }
   ],
   "source": [
    "bow = {}\n",
    "n = 0\n",
    "\n",
    "for doc in data:\n",
    "    for word in doc:\n",
    "        if word not in bow:\n",
    "            bow[word] = n\n",
    "            n += 1\n",
    "            \n",
    "            \n",
    "bow"
   ]
  },
  {
   "cell_type": "code",
   "execution_count": 5,
   "metadata": {},
   "outputs": [
    {
     "data": {
      "text/plain": [
       "{0: 'there',\n",
       " 1: 'is',\n",
       " 2: 'a',\n",
       " 3: 'boy',\n",
       " 4: 'the',\n",
       " 5: 'ver',\n",
       " 6: 'pretty',\n",
       " 7: 'vernacular',\n",
       " 8: 'was',\n",
       " 9: 'not',\n",
       " 10: 'stuff',\n",
       " 11: 'of',\n",
       " 12: 'parliamentary',\n",
       " 13: 'propriety',\n",
       " 14: '—',\n",
       " 15: '“i',\n",
       " 16: 'need',\n",
       " 17: 'to',\n",
       " 18: 'take',\n",
       " 19: 'minute,”',\n",
       " 20: 'he',\n",
       " 21: 'wrote',\n",
       " 22: 'about',\n",
       " 23: 'stepping',\n",
       " 24: 'back',\n",
       " 25: 'from',\n",
       " 26: 'trail',\n",
       " 27: 'but',\n",
       " 28: 'that',\n",
       " 29: 'point,',\n",
       " 30: 'as',\n",
       " 31: 'often',\n",
       " 32: 'case',\n",
       " 33: 'with',\n",
       " 34: 'fetterman',\n",
       " 35: 'at',\n",
       " 36: '6-foot-8,',\n",
       " 37: 'shiny',\n",
       " 38: 'pate,',\n",
       " 39: 'salt-and-pepper',\n",
       " 40: 'goatee,',\n",
       " 41: 'tattooed',\n",
       " 42: 'arms',\n",
       " 43: 'and',\n",
       " 44: 'sports-bar',\n",
       " 45: 'fashion',\n",
       " 46: 'sense,',\n",
       " 47: 'announcing',\n",
       " 48: 'hospital',\n",
       " 49: 'bed',\n",
       " 50: 'even',\n",
       " 51: 'in',\n",
       " 52: 'illness',\n",
       " 53: 'remained',\n",
       " 54: 'different',\n",
       " 55: 'kind',\n",
       " 56: 'democrat',\n",
       " 57: 'republicans',\n",
       " 58: 'were',\n",
       " 59: 'set',\n",
       " 60: 'choose',\n",
       " 61: 'tuesday',\n",
       " 62: 'among',\n",
       " 63: 'three',\n",
       " 64: 'leading',\n",
       " 65: 'senate',\n",
       " 66: 'candidates',\n",
       " 67: 'hard-fought',\n",
       " 68: 'primary',\n",
       " 69: 'contest',\n",
       " 70: 'physician',\n",
       " 71: 'celebrity',\n",
       " 72: 'mehmet',\n",
       " 73: 'oz,',\n",
       " 74: 'backed',\n",
       " 75: 'by',\n",
       " 76: 'trump;',\n",
       " 77: 'financier',\n",
       " 78: 'david',\n",
       " 79: 'mccormick;',\n",
       " 80: 'upstart',\n",
       " 81: 'kathy',\n",
       " 82: 'barnette,',\n",
       " 83: 'who',\n",
       " 84: 'on',\n",
       " 85: 'jan',\n",
       " 86: '6,',\n",
       " 87: '2021,',\n",
       " 88: 'participated',\n",
       " 89: '“stop',\n",
       " 90: 'steal”',\n",
       " 91: 'rally',\n",
       " 92: 'preceded',\n",
       " 93: 'violent',\n",
       " 94: 'assault',\n",
       " 95: 'us',\n",
       " 96: 'capitol'}"
      ]
     },
     "execution_count": 5,
     "metadata": {},
     "output_type": "execute_result"
    }
   ],
   "source": [
    "bow2 = {}\n",
    "\n",
    "for k, v in bow.items():\n",
    "    bow2[v] = k\n",
    "\n",
    "bow2"
   ]
  },
  {
   "cell_type": "code",
   "execution_count": 6,
   "metadata": {},
   "outputs": [
    {
     "data": {
      "text/plain": [
       "[[0, 1, 2, 3],\n",
       " [4, 3, 1, 5, 6],\n",
       " [4,\n",
       "  7,\n",
       "  8,\n",
       "  9,\n",
       "  4,\n",
       "  10,\n",
       "  11,\n",
       "  12,\n",
       "  13,\n",
       "  14,\n",
       "  15,\n",
       "  16,\n",
       "  17,\n",
       "  18,\n",
       "  2,\n",
       "  19,\n",
       "  20,\n",
       "  21,\n",
       "  22,\n",
       "  23,\n",
       "  24,\n",
       "  25,\n",
       "  4,\n",
       "  26,\n",
       "  14,\n",
       "  27,\n",
       "  28,\n",
       "  8,\n",
       "  4,\n",
       "  29,\n",
       "  30,\n",
       "  1,\n",
       "  31,\n",
       "  4,\n",
       "  32,\n",
       "  33,\n",
       "  34,\n",
       "  35,\n",
       "  36,\n",
       "  33,\n",
       "  2,\n",
       "  37,\n",
       "  38,\n",
       "  2,\n",
       "  39,\n",
       "  40,\n",
       "  41,\n",
       "  42,\n",
       "  43,\n",
       "  2,\n",
       "  44,\n",
       "  45,\n",
       "  46,\n",
       "  34,\n",
       "  8,\n",
       "  47,\n",
       "  25,\n",
       "  2,\n",
       "  48,\n",
       "  49,\n",
       "  28,\n",
       "  50,\n",
       "  51,\n",
       "  52,\n",
       "  20,\n",
       "  53,\n",
       "  2,\n",
       "  54,\n",
       "  55,\n",
       "  11,\n",
       "  56],\n",
       " [57,\n",
       "  58,\n",
       "  59,\n",
       "  17,\n",
       "  60,\n",
       "  61,\n",
       "  62,\n",
       "  63,\n",
       "  64,\n",
       "  65,\n",
       "  66,\n",
       "  51,\n",
       "  2,\n",
       "  67,\n",
       "  68,\n",
       "  69,\n",
       "  14,\n",
       "  70,\n",
       "  43,\n",
       "  71,\n",
       "  72,\n",
       "  73,\n",
       "  74,\n",
       "  75,\n",
       "  76,\n",
       "  77,\n",
       "  78,\n",
       "  79,\n",
       "  43,\n",
       "  80,\n",
       "  81,\n",
       "  82,\n",
       "  83,\n",
       "  84,\n",
       "  85,\n",
       "  86,\n",
       "  87,\n",
       "  88,\n",
       "  51,\n",
       "  4,\n",
       "  89,\n",
       "  4,\n",
       "  90,\n",
       "  91,\n",
       "  28,\n",
       "  92,\n",
       "  4,\n",
       "  93,\n",
       "  94,\n",
       "  84,\n",
       "  4,\n",
       "  95,\n",
       "  96]]"
      ]
     },
     "execution_count": 6,
     "metadata": {},
     "output_type": "execute_result"
    }
   ],
   "source": [
    "X = []\n",
    "\n",
    "for doc in data:\n",
    "    l = []\n",
    "    for word in doc:\n",
    "        l.append(bow[word])\n",
    "    X.append(l)\n",
    "X"
   ]
  },
  {
   "cell_type": "markdown",
   "metadata": {},
   "source": [
    "## 원-핫 인코딩 (one-hot Encoding)\n",
    "자연어를 컴퓨터가 처리하도록 문자를 기계가 이해할수있는 숫자형태로 바꾸는 그과정을 임베딩(Embedding) 이라고합니다\n",
    "\n",
    "\n",
    "- 원-핫 인코딩은 단어 집합의 크기를 벡터의 차원으로 하고, 표현하고 싶은 단어의 인덱스에 1의 값을 부여하고, 다른 인덱스에는 0을 부여하는 벡터 표현 방식입니다.\n",
    "\n",
    "- 한자리만 맞는걸 원-핫 인코딩이라고 말한다.\n",
    "\n",
    "\n",
    "ex)\n",
    "|단어|단어인덱스|원-핫 벡터|\n",
    "|----|----------|----------|\n",
    "|you|0|[1,0,0,0,0,0]|\n",
    "|say|1|[0,1,0,0,0,0]|\n",
    "|goodbye|2|[0,0,1,0,0,0]|\n",
    "|and|3|[0,0,0,1,0,0]|"
   ]
  },
  {
   "cell_type": "code",
   "execution_count": 7,
   "metadata": {},
   "outputs": [
    {
     "data": {
      "text/plain": [
       "[array([[1., 0., 0., 0., 0., 0., 0., 0., 0., 0., 0., 0., 0., 0., 0., 0.,\n",
       "         0., 0., 0., 0., 0., 0., 0., 0., 0., 0., 0., 0., 0., 0., 0., 0.,\n",
       "         0., 0., 0., 0., 0., 0., 0., 0., 0., 0., 0., 0., 0., 0., 0., 0.,\n",
       "         0., 0., 0., 0., 0., 0., 0., 0., 0., 0., 0., 0., 0., 0., 0., 0.,\n",
       "         0., 0., 0., 0., 0., 0., 0., 0., 0., 0., 0., 0., 0., 0., 0., 0.,\n",
       "         0., 0., 0., 0., 0., 0., 0., 0., 0., 0., 0., 0., 0., 0., 0., 0.,\n",
       "         0., 0.],\n",
       "        [0., 1., 0., 0., 0., 0., 0., 0., 0., 0., 0., 0., 0., 0., 0., 0.,\n",
       "         0., 0., 0., 0., 0., 0., 0., 0., 0., 0., 0., 0., 0., 0., 0., 0.,\n",
       "         0., 0., 0., 0., 0., 0., 0., 0., 0., 0., 0., 0., 0., 0., 0., 0.,\n",
       "         0., 0., 0., 0., 0., 0., 0., 0., 0., 0., 0., 0., 0., 0., 0., 0.,\n",
       "         0., 0., 0., 0., 0., 0., 0., 0., 0., 0., 0., 0., 0., 0., 0., 0.,\n",
       "         0., 0., 0., 0., 0., 0., 0., 0., 0., 0., 0., 0., 0., 0., 0., 0.,\n",
       "         0., 0.],\n",
       "        [0., 0., 1., 0., 0., 0., 0., 0., 0., 0., 0., 0., 0., 0., 0., 0.,\n",
       "         0., 0., 0., 0., 0., 0., 0., 0., 0., 0., 0., 0., 0., 0., 0., 0.,\n",
       "         0., 0., 0., 0., 0., 0., 0., 0., 0., 0., 0., 0., 0., 0., 0., 0.,\n",
       "         0., 0., 0., 0., 0., 0., 0., 0., 0., 0., 0., 0., 0., 0., 0., 0.,\n",
       "         0., 0., 0., 0., 0., 0., 0., 0., 0., 0., 0., 0., 0., 0., 0., 0.,\n",
       "         0., 0., 0., 0., 0., 0., 0., 0., 0., 0., 0., 0., 0., 0., 0., 0.,\n",
       "         0., 0.],\n",
       "        [0., 0., 0., 1., 0., 0., 0., 0., 0., 0., 0., 0., 0., 0., 0., 0.,\n",
       "         0., 0., 0., 0., 0., 0., 0., 0., 0., 0., 0., 0., 0., 0., 0., 0.,\n",
       "         0., 0., 0., 0., 0., 0., 0., 0., 0., 0., 0., 0., 0., 0., 0., 0.,\n",
       "         0., 0., 0., 0., 0., 0., 0., 0., 0., 0., 0., 0., 0., 0., 0., 0.,\n",
       "         0., 0., 0., 0., 0., 0., 0., 0., 0., 0., 0., 0., 0., 0., 0., 0.,\n",
       "         0., 0., 0., 0., 0., 0., 0., 0., 0., 0., 0., 0., 0., 0., 0., 0.,\n",
       "         0., 0.]]),\n",
       " array([[0., 0., 0., 0., 1., 0., 0., 0., 0., 0., 0., 0., 0., 0., 0., 0.,\n",
       "         0., 0., 0., 0., 0., 0., 0., 0., 0., 0., 0., 0., 0., 0., 0., 0.,\n",
       "         0., 0., 0., 0., 0., 0., 0., 0., 0., 0., 0., 0., 0., 0., 0., 0.,\n",
       "         0., 0., 0., 0., 0., 0., 0., 0., 0., 0., 0., 0., 0., 0., 0., 0.,\n",
       "         0., 0., 0., 0., 0., 0., 0., 0., 0., 0., 0., 0., 0., 0., 0., 0.,\n",
       "         0., 0., 0., 0., 0., 0., 0., 0., 0., 0., 0., 0., 0., 0., 0., 0.,\n",
       "         0., 0.],\n",
       "        [0., 0., 0., 1., 0., 0., 0., 0., 0., 0., 0., 0., 0., 0., 0., 0.,\n",
       "         0., 0., 0., 0., 0., 0., 0., 0., 0., 0., 0., 0., 0., 0., 0., 0.,\n",
       "         0., 0., 0., 0., 0., 0., 0., 0., 0., 0., 0., 0., 0., 0., 0., 0.,\n",
       "         0., 0., 0., 0., 0., 0., 0., 0., 0., 0., 0., 0., 0., 0., 0., 0.,\n",
       "         0., 0., 0., 0., 0., 0., 0., 0., 0., 0., 0., 0., 0., 0., 0., 0.,\n",
       "         0., 0., 0., 0., 0., 0., 0., 0., 0., 0., 0., 0., 0., 0., 0., 0.,\n",
       "         0., 0.],\n",
       "        [0., 1., 0., 0., 0., 0., 0., 0., 0., 0., 0., 0., 0., 0., 0., 0.,\n",
       "         0., 0., 0., 0., 0., 0., 0., 0., 0., 0., 0., 0., 0., 0., 0., 0.,\n",
       "         0., 0., 0., 0., 0., 0., 0., 0., 0., 0., 0., 0., 0., 0., 0., 0.,\n",
       "         0., 0., 0., 0., 0., 0., 0., 0., 0., 0., 0., 0., 0., 0., 0., 0.,\n",
       "         0., 0., 0., 0., 0., 0., 0., 0., 0., 0., 0., 0., 0., 0., 0., 0.,\n",
       "         0., 0., 0., 0., 0., 0., 0., 0., 0., 0., 0., 0., 0., 0., 0., 0.,\n",
       "         0., 0.],\n",
       "        [0., 0., 0., 0., 0., 1., 0., 0., 0., 0., 0., 0., 0., 0., 0., 0.,\n",
       "         0., 0., 0., 0., 0., 0., 0., 0., 0., 0., 0., 0., 0., 0., 0., 0.,\n",
       "         0., 0., 0., 0., 0., 0., 0., 0., 0., 0., 0., 0., 0., 0., 0., 0.,\n",
       "         0., 0., 0., 0., 0., 0., 0., 0., 0., 0., 0., 0., 0., 0., 0., 0.,\n",
       "         0., 0., 0., 0., 0., 0., 0., 0., 0., 0., 0., 0., 0., 0., 0., 0.,\n",
       "         0., 0., 0., 0., 0., 0., 0., 0., 0., 0., 0., 0., 0., 0., 0., 0.,\n",
       "         0., 0.],\n",
       "        [0., 0., 0., 0., 0., 0., 1., 0., 0., 0., 0., 0., 0., 0., 0., 0.,\n",
       "         0., 0., 0., 0., 0., 0., 0., 0., 0., 0., 0., 0., 0., 0., 0., 0.,\n",
       "         0., 0., 0., 0., 0., 0., 0., 0., 0., 0., 0., 0., 0., 0., 0., 0.,\n",
       "         0., 0., 0., 0., 0., 0., 0., 0., 0., 0., 0., 0., 0., 0., 0., 0.,\n",
       "         0., 0., 0., 0., 0., 0., 0., 0., 0., 0., 0., 0., 0., 0., 0., 0.,\n",
       "         0., 0., 0., 0., 0., 0., 0., 0., 0., 0., 0., 0., 0., 0., 0., 0.,\n",
       "         0., 0.]]),\n",
       " array([[0., 0., 0., ..., 0., 0., 0.],\n",
       "        [0., 0., 0., ..., 0., 0., 0.],\n",
       "        [0., 0., 0., ..., 0., 0., 0.],\n",
       "        ...,\n",
       "        [0., 0., 0., ..., 0., 0., 0.],\n",
       "        [0., 0., 0., ..., 0., 0., 0.],\n",
       "        [0., 0., 0., ..., 0., 0., 0.]]),\n",
       " array([[0., 0., 0., ..., 0., 0., 0.],\n",
       "        [0., 0., 0., ..., 0., 0., 0.],\n",
       "        [0., 0., 0., ..., 0., 0., 0.],\n",
       "        ...,\n",
       "        [0., 0., 0., ..., 0., 0., 0.],\n",
       "        [0., 0., 0., ..., 1., 0., 0.],\n",
       "        [0., 0., 0., ..., 0., 1., 0.]])]"
      ]
     },
     "execution_count": 7,
     "metadata": {},
     "output_type": "execute_result"
    }
   ],
   "source": [
    "# 원핫인코딩\n",
    "\n",
    "X2 = []\n",
    "\n",
    "for x in X:\n",
    "    a = np.eye(n + 1)[x]\n",
    "    X2.append(a)\n",
    "\n",
    "X2"
   ]
  },
  {
   "cell_type": "code",
   "execution_count": 8,
   "metadata": {},
   "outputs": [
    {
     "data": {
      "text/plain": [
       "array([0., 0., 0., 0., 0., 0., 0., 0., 0., 0., 1., 0., 0., 0., 0., 0., 0.,\n",
       "       0., 0., 0., 0., 0., 0., 0., 0., 0., 0., 0., 0., 0., 0., 0., 0., 0.,\n",
       "       0., 0., 0., 0., 0., 0., 0., 0., 0., 0., 0., 0., 0., 0., 0., 0., 0.,\n",
       "       0., 0., 0., 0., 0., 0., 0., 0., 0., 0., 0., 0., 0., 0., 0., 0., 0.,\n",
       "       0., 0., 0., 0., 0., 0., 0., 0., 0., 0., 0., 0., 0., 0., 0., 0., 0.,\n",
       "       0., 0., 0., 0., 0., 0., 0., 0., 0., 0., 0., 0., 0.])"
      ]
     },
     "execution_count": 8,
     "metadata": {},
     "output_type": "execute_result"
    }
   ],
   "source": [
    "np.eye(n + 1)[10]"
   ]
  },
  {
   "cell_type": "markdown",
   "metadata": {},
   "source": [
    "***\n",
    "## 직접 데이터 가져와서 해보기\n",
    "#### https://github.com/rickiepark/introduction_to_ml_with_python/blob/master/data/aclImdb_v1.tar.gz\n",
    "***"
   ]
  },
  {
   "cell_type": "code",
   "execution_count": 9,
   "metadata": {},
   "outputs": [],
   "source": [
    "from sklearn.datasets import load_files\n",
    "\n",
    "imdb_train = load_files('data/aclImdb/train/')\n",
    "imdb_test = load_files('data/aclImdb/test/')\n",
    "\n",
    "np.save('imdb.npy', [imdb_train, imdb_test])"
   ]
  },
  {
   "cell_type": "code",
   "execution_count": 10,
   "metadata": {},
   "outputs": [
    {
     "data": {
      "text/plain": [
       "(sklearn.utils.Bunch, sklearn.utils.Bunch)"
      ]
     },
     "execution_count": 10,
     "metadata": {},
     "output_type": "execute_result"
    }
   ],
   "source": [
    "type(imdb_train), type(imdb_test)"
   ]
  },
  {
   "cell_type": "code",
   "execution_count": 11,
   "metadata": {},
   "outputs": [
    {
     "data": {
      "text/plain": [
       "dict_keys(['data', 'filenames', 'target_names', 'target', 'DESCR'])"
      ]
     },
     "execution_count": 11,
     "metadata": {},
     "output_type": "execute_result"
    }
   ],
   "source": [
    "imdb_train.keys()"
   ]
  },
  {
   "cell_type": "code",
   "execution_count": 12,
   "metadata": {},
   "outputs": [
    {
     "data": {
      "text/plain": [
       "(list, 25000)"
      ]
     },
     "execution_count": 12,
     "metadata": {},
     "output_type": "execute_result"
    }
   ],
   "source": [
    "type(imdb_train.data), len(imdb_train.data)"
   ]
  },
  {
   "cell_type": "code",
   "execution_count": 13,
   "metadata": {},
   "outputs": [
    {
     "data": {
      "text/plain": [
       "(list, 25000)"
      ]
     },
     "execution_count": 13,
     "metadata": {},
     "output_type": "execute_result"
    }
   ],
   "source": [
    "type(imdb_test.data), len(imdb_test.data)"
   ]
  },
  {
   "cell_type": "code",
   "execution_count": 14,
   "metadata": {},
   "outputs": [
    {
     "data": {
      "text/plain": [
       "b\"Zero Day leads you to think, even re-think why two boys/young men would do what they did - commit mutual suicide via slaughtering their classmates. It captures what must be beyond a bizarre mode of being for two humans who have decided to withdraw from common civility in order to define their own/mutual world via coupled destruction.<br /><br />It is not a perfect movie but given what money/time the filmmaker and actors had - it is a remarkable product. In terms of explaining the motives and actions of the two young suicide/murderers it is better than 'Elephant' - in terms of being a film that gets under our 'rationalistic' skin it is a far, far better film than almost anything you are likely to see. <br /><br />Flawed but honest with a terrible honesty.\""
      ]
     },
     "execution_count": 14,
     "metadata": {},
     "output_type": "execute_result"
    }
   ],
   "source": [
    "imdb_train.data[0]"
   ]
  },
  {
   "cell_type": "code",
   "execution_count": 15,
   "metadata": {},
   "outputs": [
    {
     "data": {
      "text/plain": [
       "\"Zero Day leads you to think, even re-think why two boys/young men would do what they did - commit mutual suicide via slaughtering their classmates. It captures what must be beyond a bizarre mode of being for two humans who have decided to withdraw from common civility in order to define their own/mutual world via coupled destruction.<br /><br />It is not a perfect movie but given what money/time the filmmaker and actors had - it is a remarkable product. In terms of explaining the motives and actions of the two young suicide/murderers it is better than 'Elephant' - in terms of being a film that gets under our 'rationalistic' skin it is a far, far better film than almost anything you are likely to see. <br /><br />Flawed but honest with a terrible honesty.\""
      ]
     },
     "execution_count": 15,
     "metadata": {},
     "output_type": "execute_result"
    }
   ],
   "source": [
    "imdb_train.data[0].decode()"
   ]
  },
  {
   "cell_type": "code",
   "execution_count": null,
   "metadata": {},
   "outputs": [],
   "source": [
    "# <br> 제거\n",
    "\n",
    "text_train = [s.decode()]"
   ]
  }
 ],
 "metadata": {
  "interpreter": {
   "hash": "31f2aee4e71d21fbe5cf8b01ff0e069b9275f58929596ceb00d14d90e3e16cd6"
  },
  "kernelspec": {
   "display_name": "Python 3",
   "language": "python",
   "name": "python3"
  },
  "language_info": {
   "codemirror_mode": {
    "name": "ipython",
    "version": 3
   },
   "file_extension": ".py",
   "mimetype": "text/x-python",
   "name": "python",
   "nbconvert_exporter": "python",
   "pygments_lexer": "ipython3",
   "version": "3.8.10"
  }
 },
 "nbformat": 4,
 "nbformat_minor": 2
}
