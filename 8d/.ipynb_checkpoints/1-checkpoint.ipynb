{
 "cells": [
  {
   "cell_type": "markdown",
   "metadata": {},
   "source": [
    "***\n",
    "## 자연어 처리\n",
    "\n",
    "-문장을 바로 처리하기 힘들기 때문에 단어로 처리"
   ]
  },
  {
   "cell_type": "code",
   "execution_count": 14,
   "metadata": {},
   "outputs": [],
   "source": [
    "import numpy as np\n",
    "import pandas as pd\n",
    "import matplotlib.pyplot as plt"
   ]
  },
  {
   "cell_type": "code",
   "execution_count": 15,
   "metadata": {},
   "outputs": [],
   "source": [
    "doce = ['There is a boy.', 'The boy is ver pretty.']"
   ]
  },
  {
   "cell_type": "code",
   "execution_count": 16,
   "metadata": {},
   "outputs": [
    {
     "data": {
      "text/plain": [
       "[['there', 'is', 'a', 'boy'], ['the', 'boy', 'is', 'ver', 'pretty']]"
      ]
     },
     "execution_count": 16,
     "metadata": {},
     "output_type": "execute_result"
    }
   ],
   "source": [
    "data = []\n",
    "for s in doce:\n",
    "    s2= s.replace('.', '')\n",
    "    s2 = s2.lower()\n",
    "    data.append(s2.split())\n",
    "    \n",
    "data"
   ]
  },
  {
   "cell_type": "markdown",
   "metadata": {},
   "source": [
    "## 딕셔너리(dictionary)\n",
    "- ``사람은 누구든지 \"이름\" = \"홍길동\", \"생일\" = \"몇 월 며칠\" 등으로 구별할 수 있다. 파이썬은 영리하게도 이러한 대응 관계를 나타낼 수 있는 자료형을 가지고 있다. 요즘 사용하는 대부분의 언어도 이러한 대응 관계를 나타내는 자료형을 갖고 있는데, 이를 연관 배열(Associative array) 또는 해시(Hash)라고 한다.``\n",
    "\n",
    "- ``ex) dic = {'name':'pey', 'phone':'0119993323', 'birth': '1118'}``\n",
    "\n",
    "|dic|key|value|\n",
    "|---|---|-----|\n",
    "|---|name|pey|\n",
    "|---|phone|01199993323|\n",
    "|---|birth|1118|\n",
    "\n"
   ]
  },
  {
   "cell_type": "code",
   "execution_count": 17,
   "metadata": {},
   "outputs": [
    {
     "data": {
      "text/plain": [
       "{'there': 0, 'is': 1, 'a': 2, 'boy': 3, 'the': 4, 'ver': 5, 'pretty': 6}"
      ]
     },
     "execution_count": 17,
     "metadata": {},
     "output_type": "execute_result"
    }
   ],
   "source": [
    "bow = {}\n",
    "n = 0\n",
    "\n",
    "for doc in data:\n",
    "    for word in doc:\n",
    "        if word not in bow:\n",
    "            bow[word] = n\n",
    "            n += 1\n",
    "            \n",
    "            \n",
    "bow"
   ]
  },
  {
   "cell_type": "code",
   "execution_count": 14,
   "metadata": {},
   "outputs": [
    {
     "data": {
      "text/plain": [
       "{0: 'there',\n",
       " 1: 'is',\n",
       " 2: 'a',\n",
       " 3: 'boy',\n",
       " 4: 'the',\n",
       " 5: 'ver',\n",
       " 6: 'pretty',\n",
       " 'there': 0,\n",
       " 'is': 1,\n",
       " 'a': 2}"
      ]
     },
     "execution_count": 14,
     "metadata": {},
     "output_type": "execute_result"
    }
   ],
   "source": [
    "bow2 = {}\n",
    "\n",
    "for k, v in bow.items():\n",
    "    bow2[v] = k\n",
    "\n",
    "bow2"
   ]
  },
  {
   "cell_type": "code",
   "execution_count": 15,
   "metadata": {},
   "outputs": [
    {
     "data": {
      "text/plain": [
       "[[0, 1, 2, 3], [4, 3, 1, 5, 6]]"
      ]
     },
     "execution_count": 15,
     "metadata": {},
     "output_type": "execute_result"
    }
   ],
   "source": [
    "X = []\n",
    "\n",
    "for doc in data:\n",
    "    l = []\n",
    "    for word in doc:\n",
    "        l.append(bow[word])\n",
    "    X.append(l)\n",
    "X"
   ]
  },
  {
   "cell_type": "code",
   "execution_count": 16,
   "metadata": {},
   "outputs": [],
   "source": []
  },
  {
   "cell_type": "code",
   "execution_count": null,
   "metadata": {},
   "outputs": [],
   "source": []
  }
 ],
 "metadata": {
  "interpreter": {
   "hash": "31f2aee4e71d21fbe5cf8b01ff0e069b9275f58929596ceb00d14d90e3e16cd6"
  },
  "kernelspec": {
   "display_name": "Python 3",
   "language": "python",
   "name": "python3"
  },
  "language_info": {
   "codemirror_mode": {
    "name": "ipython",
    "version": 3
   },
   "file_extension": ".py",
   "mimetype": "text/x-python",
   "name": "python",
   "nbconvert_exporter": "python",
   "pygments_lexer": "ipython3",
   "version": "3.8.10"
  }
 },
 "nbformat": 4,
 "nbformat_minor": 2
}
